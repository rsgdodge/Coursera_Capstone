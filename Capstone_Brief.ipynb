{
 "cells": [
  {
   "cell_type": "markdown",
   "id": "7266b929",
   "metadata": {},
   "source": [
    "<h1><center><span style='color:white;background:red;font-family:Helvetica'>&nbsp;&emsp; Project Info &emsp;&nbsp;</span></center></h1>\n",
    "\n",
    "For my Capstone Project I'll be examining the question of where to put a restaurant in Boston, Massachusetts. The city of Boston has a rich culinary history, covering the gamut from New England seafood (\"say chowdah!\") to the Italian restaurants and bakeries of the North End to Chinatown to the ubiquitous Dunkin' Donuts, based in nearby Canton MA. So where might one squeeze in another venue?\n",
    "\n",
    "As part of the project, I'll be breaking up the city into neighborhoods as we did in the NYC and Toronto exercises, but with a twist. In those exercises we used a list of points as centroids of city neighborhoods, and defined venues as being in those neighborhoods based on being within a certain radius of the centroid. I understand that this was done for the sake of simplicity and keeping us focused on the task at hand, but in reality a neighborhood is not typically a point or defined by proximity to a point. It is a bounded area, usually irregularly shaped. For this project I'll be dividing the map of Boston into real neighborhoods and placing the venues pulled from Foursquare into these irregularly shaped areas.\n",
    "\n",
    "The data sources I'll be using include:\n",
    "\n",
    "<h3>Venue info</h3>\n",
    "\n",
    "Foursquare EXPLORE endpoint\n",
    "\n",
    "https://api.foursquare.com/v2/venues/explore\n",
    "\n",
    "<h3>Census Tract and Population info</h3>\n",
    "\n",
    "US Census Bureau geocoder, using benchmark 4 (Public_AR_Current) and vintage 410 (Census2010_Current)\n",
    "\n",
    "https://geocoding.geo.census.gov/geocoder/\n",
    "\n",
    "<h3>Household Income info</h3>\n",
    "\n",
    "US Census Bureau American Community Survey 5-Year Data (2009-2019) (aka ACS5), report B19013_001E (Estimate Median household income in the past 12 months in 2019 inflation-adjusted dollars)\n",
    "\n",
    "https://api.census.gov/data/2019/acs/acs5\n",
    "\n",
    "<h3>Boston Census Tracts</h3>\n",
    "\n",
    "Analyze Boston\n",
    "\n",
    "https://data.boston.gov/dataset/census-2010-tracts1 via hub.arcgis.com.\n",
    "\n",
    "<h3>Boston Census Tract to Neighborhood key</h3>\n",
    "\n",
    "Boston Planning & Development Agency; Neighborhood-Map-by-Census-Tract_Updated-March-2014-(1)-(2).pdf\n",
    "\n",
    "http://www.bostonplans.org/ \n",
    "\n",
    "<h3>MBTA Rapid Transit, Commuter Rail, and Bus info</h3>\n",
    "\n",
    "Massachusetts Bureau of Geographic Information (MassGIS)\n",
    "\n",
    "https://docs.digital.mass.gov/dataset/massgis-data-mbta-rapid-transit via hub.arcgis.com\n",
    "\n",
    "https://docs.digital.mass.gov/dataset/massgis-data-trains via hub.arcgis.com\n",
    "\n",
    "https://docs.digital.mass.gov/dataset/massgis-data-mbta-bus-routes-and-stops via hub.arcgis.com"
   ]
  }
 ],
 "metadata": {
  "kernelspec": {
   "display_name": "Python 3",
   "language": "python",
   "name": "python3"
  },
  "language_info": {
   "codemirror_mode": {
    "name": "ipython",
    "version": 3
   },
   "file_extension": ".py",
   "mimetype": "text/x-python",
   "name": "python",
   "nbconvert_exporter": "python",
   "pygments_lexer": "ipython3",
   "version": "3.8.8"
  }
 },
 "nbformat": 4,
 "nbformat_minor": 5
}
